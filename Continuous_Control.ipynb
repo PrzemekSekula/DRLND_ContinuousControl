{
 "cells": [
  {
   "cell_type": "markdown",
   "metadata": {},
   "source": [
    "# Continuous Control\n",
    "\n",
    "---\n",
    "\n",
    "In this notebook, you will learn how to use the Unity ML-Agents environment for the second project of the [Deep Reinforcement Learning Nanodegree](https://www.udacity.com/course/deep-reinforcement-learning-nanodegree--nd893) program.\n",
    "\n",
    "### 1. Start the Environment\n",
    "\n",
    "We begin by importing the necessary packages.  If the code cell below returns an error, please revisit the project instructions to double-check that you have installed [Unity ML-Agents](https://github.com/Unity-Technologies/ml-agents/blob/master/docs/Installation.md) and [NumPy](http://www.numpy.org/)."
   ]
  },
  {
   "cell_type": "code",
   "execution_count": 1,
   "metadata": {},
   "outputs": [],
   "source": [
    "from unityagents import UnityEnvironment\n",
    "import numpy as np"
   ]
  },
  {
   "cell_type": "markdown",
   "metadata": {},
   "source": [
    "Next, we will start the environment!  **_Before running the code cell below_**, change the `file_name` parameter to match the location of the Unity environment that you downloaded.\n",
    "\n",
    "- **Mac**: `\"path/to/Reacher.app\"`\n",
    "- **Windows** (x86): `\"path/to/Reacher_Windows_x86/Reacher.exe\"`\n",
    "- **Windows** (x86_64): `\"path/to/Reacher_Windows_x86_64/Reacher.exe\"`\n",
    "- **Linux** (x86): `\"path/to/Reacher_Linux/Reacher.x86\"`\n",
    "- **Linux** (x86_64): `\"path/to/Reacher_Linux/Reacher.x86_64\"`\n",
    "- **Linux** (x86, headless): `\"path/to/Reacher_Linux_NoVis/Reacher.x86\"`\n",
    "- **Linux** (x86_64, headless): `\"path/to/Reacher_Linux_NoVis/Reacher.x86_64\"`\n",
    "\n",
    "For instance, if you are using a Mac, then you downloaded `Reacher.app`.  If this file is in the same folder as the notebook, then the line below should appear as follows:\n",
    "```\n",
    "env = UnityEnvironment(file_name=\"Reacher.app\")\n",
    "```"
   ]
  },
  {
   "cell_type": "code",
   "execution_count": 2,
   "metadata": {},
   "outputs": [
    {
     "name": "stderr",
     "output_type": "stream",
     "text": [
      "INFO:unityagents:\n",
      "'Academy' started successfully!\n",
      "Unity Academy name: Academy\n",
      "        Number of Brains: 1\n",
      "        Number of External Brains : 1\n",
      "        Lesson number : 0\n",
      "        Reset Parameters :\n",
      "\t\tgoal_speed -> 1.0\n",
      "\t\tgoal_size -> 5.0\n",
      "Unity brain name: ReacherBrain\n",
      "        Number of Visual Observations (per agent): 0\n",
      "        Vector Observation space type: continuous\n",
      "        Vector Observation space size (per agent): 33\n",
      "        Number of stacked Vector Observation: 1\n",
      "        Vector Action space type: continuous\n",
      "        Vector Action space size (per agent): 4\n",
      "        Vector Action descriptions: , , , \n"
     ]
    }
   ],
   "source": [
    "#env = UnityEnvironment(file_name='./Reacher_Windows_x86_64/Reacher.exe')\n",
    "env = UnityEnvironment(file_name='./Reacher_Windows_x86_64_OneAgent/Reacher.exe')\n"
   ]
  },
  {
   "cell_type": "markdown",
   "metadata": {},
   "source": [
    "Environments contain **_brains_** which are responsible for deciding the actions of their associated agents. Here we check for the first brain available, and set it as the default brain we will be controlling from Python."
   ]
  },
  {
   "cell_type": "code",
   "execution_count": 3,
   "metadata": {},
   "outputs": [],
   "source": [
    "# get the default brain\n",
    "brain_name = env.brain_names[0]\n",
    "brain = env.brains[brain_name]"
   ]
  },
  {
   "cell_type": "markdown",
   "metadata": {},
   "source": [
    "### 2. Examine the State and Action Spaces\n",
    "\n",
    "In this environment, a double-jointed arm can move to target locations. A reward of `+0.1` is provided for each step that the agent's hand is in the goal location. Thus, the goal of your agent is to maintain its position at the target location for as many time steps as possible.\n",
    "\n",
    "The observation space consists of `33` variables corresponding to position, rotation, velocity, and angular velocities of the arm.  Each action is a vector with four numbers, corresponding to torque applicable to two joints.  Every entry in the action vector must be a number between `-1` and `1`.\n",
    "\n",
    "Run the code cell below to print some information about the environment."
   ]
  },
  {
   "cell_type": "code",
   "execution_count": 4,
   "metadata": {},
   "outputs": [
    {
     "name": "stdout",
     "output_type": "stream",
     "text": [
      "Number of agents: 1\n",
      "Size of each action: 4\n",
      "There are 1 agents. Each observes a state with length: 33\n",
      "The state for the first agent looks like: [ 0.00000000e+00 -4.00000000e+00  0.00000000e+00  1.00000000e+00\n",
      " -0.00000000e+00 -0.00000000e+00 -4.37113883e-08  0.00000000e+00\n",
      "  0.00000000e+00  0.00000000e+00  0.00000000e+00  0.00000000e+00\n",
      "  0.00000000e+00  0.00000000e+00 -1.00000000e+01  0.00000000e+00\n",
      "  1.00000000e+00 -0.00000000e+00 -0.00000000e+00 -4.37113883e-08\n",
      "  0.00000000e+00  0.00000000e+00  0.00000000e+00  0.00000000e+00\n",
      "  0.00000000e+00  0.00000000e+00  5.75471878e+00 -1.00000000e+00\n",
      "  5.55726671e+00  0.00000000e+00  1.00000000e+00  0.00000000e+00\n",
      " -1.68164849e-01]\n"
     ]
    }
   ],
   "source": [
    "# reset the environment\n",
    "env_info = env.reset(train_mode=True)[brain_name]\n",
    "\n",
    "# number of agents\n",
    "num_agents = len(env_info.agents)\n",
    "print('Number of agents:', num_agents)\n",
    "\n",
    "# size of each action\n",
    "action_size = brain.vector_action_space_size\n",
    "print('Size of each action:', action_size)\n",
    "\n",
    "# examine the state space \n",
    "states = env_info.vector_observations\n",
    "state_size = states.shape[1]\n",
    "print('There are {} agents. Each observes a state with length: {}'.format(states.shape[0], state_size))\n",
    "print('The state for the first agent looks like:', states[0])"
   ]
  },
  {
   "cell_type": "markdown",
   "metadata": {},
   "source": [
    "### 3. Take Random Actions in the Environment\n",
    "\n",
    "In the next code cell, you will learn how to use the Python API to control the agent and receive feedback from the environment.\n",
    "\n",
    "Once this cell is executed, you will watch the agent's performance, if it selects an action at random with each time step.  A window should pop up that allows you to observe the agent, as it moves through the environment.  \n",
    "\n",
    "Of course, as part of the project, you'll have to change the code so that the agent is able to use its experience to gradually choose better actions when interacting with the environment!"
   ]
  },
  {
   "cell_type": "code",
   "execution_count": 5,
   "metadata": {},
   "outputs": [
    {
     "name": "stdout",
     "output_type": "stream",
     "text": [
      "Total score (averaged over agents) this episode: 0.0\n"
     ]
    }
   ],
   "source": [
    "import sys\n",
    "if True:\n",
    "    env_info = env.reset(train_mode=False)[brain_name]     # reset the environment    \n",
    "    states = env_info.vector_observations                  # get the current state (for each agent)\n",
    "    scores = np.zeros(num_agents)                          # initialize the score (for each agent)\n",
    "    #while True:\n",
    "    i = 0\n",
    "    while i < 100:\n",
    "        i+=1\n",
    "        actions = np.random.randn(num_agents, action_size) # select an action (for each agent)\n",
    "        actions = np.clip(actions, -1, 1)                  # all actions between -1 and 1\n",
    "        env_info = env.step(actions)[brain_name]           # send all actions to tne environment\n",
    "        next_states = env_info.vector_observations         # get next state (for each agent)\n",
    "        rewards = env_info.rewards                         # get reward (for each agent)\n",
    "        dones = env_info.local_done                        # see if episode finished\n",
    "        scores += env_info.rewards                         # update the score (for each agent)\n",
    "        states = next_states                               # roll over states to next time step\n",
    "        sys.stdout.write('{}                                \\r'.format(rewards))\n",
    "        if np.sum(rewards) != 0:\n",
    "            print ('{}                                \\r'.format(rewards))\n",
    "        if np.any(dones):                                  # exit loop if episode finished\n",
    "            break\n",
    "    print('Total score (averaged over agents) this episode: {}'.format(np.mean(scores)))"
   ]
  },
  {
   "cell_type": "markdown",
   "metadata": {},
   "source": [
    "When finished, you can close the environment."
   ]
  },
  {
   "cell_type": "code",
   "execution_count": 6,
   "metadata": {},
   "outputs": [],
   "source": [
    "#env.close()"
   ]
  },
  {
   "cell_type": "markdown",
   "metadata": {},
   "source": [
    "### 4. It's Your Turn!\n",
    "\n",
    "Now it's your turn to train your own agent to solve the environment!  When training the environment, set `train_mode=True`, so that the line for resetting the environment looks like the following:\n",
    "```python\n",
    "env_info = env.reset(train_mode=True)[brain_name]\n",
    "```"
   ]
  },
  {
   "cell_type": "code",
   "execution_count": 7,
   "metadata": {},
   "outputs": [],
   "source": [
    "import torch\n",
    "from collections import deque\n",
    "\n",
    "import threading\n",
    "from time import sleep, time, strftime, gmtime\n",
    "\n",
    "import matplotlib.pyplot as plt\n",
    "\n",
    "from ddpg_agent import Agent"
   ]
  },
  {
   "cell_type": "code",
   "execution_count": 8,
   "metadata": {},
   "outputs": [],
   "source": [
    "agent = Agent(state_size=state_size, action_size=action_size, random_seed=2)\n",
    "run_training = True"
   ]
  },
  {
   "cell_type": "code",
   "execution_count": 9,
   "metadata": {},
   "outputs": [],
   "source": [
    "def train_agent():\n",
    "    exp_time = 0\n",
    "    learn_time = 0\n",
    "    while True:\n",
    "        if len(agent.memory) > agent.batch_size:\n",
    "            break\n",
    "        sleep(1)\n",
    "    \n",
    "    while run_training:\n",
    "        experiences = agent.memory.sample()\n",
    "\n",
    "        agent.learn(experiences, agent.gamma)\n",
    "        agent.learning_step += 1\n",
    "\n",
    "    print (\"Training agent done!\")    \n",
    "    "
   ]
  },
  {
   "cell_type": "code",
   "execution_count": 10,
   "metadata": {},
   "outputs": [],
   "source": [
    "def generate_episodes(n_episodes=2000, print_every=100, save_every=100,\n",
    "                     noise_max = 0.1, noise_min = 0.05, min_noise_level = 35):\n",
    "    \"\"\"\n",
    "    Arguments:\n",
    "        n_episodes      - number of episodes\n",
    "        print_every     - how often the information shall be printed (n. of episodes)\n",
    "        save_every      - how often the models shall be saved (n. of episodes)\n",
    "        noise_max       - maximum sigma for noise generation\n",
    "        noise_min       - minimum sigma for noise generation\n",
    "        min_noise_level - averaged score that corresponds to minimum sigma for noise generation\n",
    "    \"\"\"\n",
    "    \n",
    "    global run_training\n",
    "    \n",
    "    t = time()\n",
    "    scores_deque = deque(maxlen=100)\n",
    "    scores = []\n",
    "    \n",
    "    env_step = 0\n",
    "    noise_sigma = noise_max\n",
    "    \n",
    "    print ('Running experiments...')\n",
    "    \n",
    "    for i_episode in range(1, n_episodes+1):\n",
    "        env_info = env.reset(train_mode=True)[brain_name]   \n",
    "        state = env_info.vector_observations[0]      \n",
    "        score = 0\n",
    "        #agent.reset() - needed only with OU noise\n",
    "        while True:\n",
    "            action = agent.act(state, add_noise='rand', sigma = noise_sigma)\n",
    "            env_info = env.step(action)[brain_name]        \n",
    "            next_state = env_info.vector_observations[0]        \n",
    "            reward = env_info.rewards[0]                       \n",
    "            done = env_info.local_done[0] \n",
    "            \n",
    "            #agent.step(state, action, reward, next_state, done)\n",
    "            agent.memory.add(state, action, reward, next_state, done)\n",
    "            state = next_state\n",
    "            score += reward\n",
    "            env_step += 1\n",
    "            \n",
    "            if done:\n",
    "                break \n",
    "            \n",
    "                \n",
    "        scores_deque.append(score)\n",
    "        scores.append(score)\n",
    "        \n",
    "        scores_mean = np.mean(scores_deque)\n",
    "        \n",
    "        \n",
    "        print('\\rEpisode {:,}\\tEnv steps/Learning step: {:.2f}\\tSigma: {:.2f}\\tAvg. Score: {:.2f} ({}s)'.format(\n",
    "            i_episode, (env_step/agent.learning_step if agent.learning_step > 0 else np.inf),\n",
    "            noise_sigma, scores_mean,\n",
    "            strftime('%H:%M:%S', gmtime(time() - t))\n",
    "        ), end=\"\")\n",
    "        \n",
    "        noise_sigma = noise_min + max(0, min_noise_level - scores_mean) * (noise_max - noise_min) / min_noise_level\n",
    "        \n",
    "        if i_episode % print_every == 0:\n",
    "            print('\\rEpisode {:,}\\tEnv steps/Learning step: {:.2f}\\tSigma: {:.2f}\\tAvg. Score: {:.2f} ({}s)'.format(\n",
    "                i_episode, (env_step/agent.learning_step if agent.learning_step > 0 else np.inf),\n",
    "                noise_sigma, scores_mean,\n",
    "                strftime('%H:%M:%S', gmtime(time() - t))\n",
    "            ))\n",
    "\n",
    "        if i_episode % save_every == 0:\n",
    "            torch.save(agent.actor_local.state_dict(), './models/checkpoint_actor_{}.pth'.format(i_episode))\n",
    "            torch.save(agent.critic_local.state_dict(), './models/checkpoint_critic_{}.pth'.format(i_episode))\n",
    "    \n",
    "    torch.save(agent.actor_local.state_dict(), './models/checkpoint_actor.pth')\n",
    "    torch.save(agent.critic_local.state_dict(), './models/checkpoint_critic.pth')    \n",
    "    \n",
    "    run_training = False\n",
    "    return scores"
   ]
  },
  {
   "cell_type": "code",
   "execution_count": 11,
   "metadata": {},
   "outputs": [
    {
     "name": "stdout",
     "output_type": "stream",
     "text": [
      "Running experiments...\n",
      "Episode 100\tEnv steps/Learning step: 7.48\tSigma: 0.10\tAvg. Score: 0.96 (00:08:53s)\n",
      "Episode 200\tEnv steps/Learning step: 7.42\tSigma: 0.09\tAvg. Score: 6.84 (00:18:06s)\n",
      "Episode 300\tEnv steps/Learning step: 7.40\tSigma: 0.07\tAvg. Score: 22.89 (00:27:35s)\n",
      "Episode 400\tEnv steps/Learning step: 7.39\tSigma: 0.05\tAvg. Score: 35.92 (00:37:21s)\n",
      "Episode 500\tEnv steps/Learning step: 7.39\tSigma: 0.05\tAvg. Score: 37.14 (00:47:26s)\n",
      "Episode 600\tEnv steps/Learning step: 7.38\tSigma: 0.05\tAvg. Score: 34.77 (00:57:40s)\n",
      "Episode 700\tEnv steps/Learning step: 7.38\tSigma: 0.05\tAvg. Score: 35.68 (01:07:54s)\n",
      "Episode 800\tEnv steps/Learning step: 7.37\tSigma: 0.05\tAvg. Score: 35.33 (01:18:08s)\n",
      "Episode 900\tEnv steps/Learning step: 7.36\tSigma: 0.05\tAvg. Score: 34.11 (01:28:22s)\n",
      "Episode 1,000\tEnv steps/Learning step: 7.37\tSigma: 0.05\tAvg. Score: 33.42 (01:38:35s)\n",
      "Episode 1,100\tEnv steps/Learning step: 7.37\tSigma: 0.05\tAvg. Score: 32.77 (01:48:50s)\n",
      "Episode 1,200\tEnv steps/Learning step: 7.38\tSigma: 0.05\tAvg. Score: 33.29 (01:58:59s)\n",
      "Episode 1,300\tEnv steps/Learning step: 7.38\tSigma: 0.05\tAvg. Score: 33.75 (02:09:12s)\n",
      "Episode 1,400\tEnv steps/Learning step: 7.38\tSigma: 0.05\tAvg. Score: 35.09 (02:19:24s)\n",
      "Episode 1,500\tEnv steps/Learning step: 7.38\tSigma: 0.05\tAvg. Score: 34.80 (02:29:35s)\n",
      "Episode 1,600\tEnv steps/Learning step: 7.38\tSigma: 0.06\tAvg. Score: 31.33 (02:39:47s)\n",
      "Episode 1,700\tEnv steps/Learning step: 7.38\tSigma: 0.05\tAvg. Score: 33.37 (02:49:59s)\n",
      "Episode 1,800\tEnv steps/Learning step: 7.38\tSigma: 0.05\tAvg. Score: 33.14 (03:00:11s)\n",
      "Episode 1,900\tEnv steps/Learning step: 7.38\tSigma: 0.05\tAvg. Score: 34.76 (03:10:22s)\n",
      "Episode 2,000\tEnv steps/Learning step: 7.38\tSigma: 0.05\tAvg. Score: 33.74 (03:20:34s)\n"
     ]
    },
    {
     "data": {
      "image/png": "[encoded data removed]",
      "text/plain": [
       "<Figure size 432x288 with 1 Axes>"
      ]
     },
     "metadata": {
      "needs_background": "light"
     },
     "output_type": "display_data"
    }
   ],
   "source": [
    "run_training = True\n",
    "t1 = threading.Thread(target=train_agent)\n",
    "t1.start()\n",
    "\n",
    "\n",
    "scores = generate_episodes()\n",
    "\n",
    "fig = plt.figure()\n",
    "ax = fig.add_subplot(111)\n",
    "plt.plot(np.arange(1, len(scores)+1), scores)\n",
    "plt.ylabel('Score')\n",
    "plt.xlabel('Episode #')\n",
    "plt.show()"
   ]
  },
  {
   "cell_type": "code",
   "execution_count": 12,
   "metadata": {},
   "outputs": [],
   "source": [
    "# Saving scores for further analysis\n",
    "import pickle\n",
    "pickle.dump(scores, open('./scores.p', 'wb'))"
   ]
  },
  {
   "cell_type": "code",
   "execution_count": 13,
   "metadata": {},
   "outputs": [
    {
     "name": "stdout",
     "output_type": "stream",
     "text": [
      "Agent performed 271,342 learning steps\n",
      "Training agent done!\n"
     ]
    }
   ],
   "source": [
    "print ('Agent performed {:,} learning steps'.format(agent.learning_step))"
   ]
  },
  {
   "cell_type": "code",
   "execution_count": 14,
   "metadata": {},
   "outputs": [],
   "source": [
    "env.close()"
   ]
  },
  {
   "cell_type": "code",
   "execution_count": null,
   "metadata": {},
   "outputs": [],
   "source": []
  }
 ],
 "metadata": {
  "kernelspec": {
   "display_name": "Python 3",
   "language": "python",
   "name": "python3"
  },
  "language_info": {
   "codemirror_mode": {
    "name": "ipython",
    "version": 3
   },
   "file_extension": ".py",
   "mimetype": "text/x-python",
   "name": "python",
   "nbconvert_exporter": "python",
   "pygments_lexer": "ipython3",
   "version": "3.6.10"
  }
 },
 "nbformat": 4,
 "nbformat_minor": 4
}
