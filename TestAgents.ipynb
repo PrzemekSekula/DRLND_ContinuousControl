{
 "cells": [
  {
   "cell_type": "markdown",
   "metadata": {},
   "source": [
    "# Let's see how the trained agent works\n",
    "This notebook shall be run after the agent is trained."
   ]
  },
  {
   "cell_type": "code",
   "execution_count": 1,
   "metadata": {},
   "outputs": [],
   "source": [
    "import sys\n",
    "import numpy as np\n",
    "import torch\n",
    "import pickle\n",
    "\n",
    "from time import time, strftime, gmtime\n",
    "\n",
    "from unityagents import UnityEnvironment\n",
    "from ddpg_agent import Agent"
   ]
  },
  {
   "cell_type": "code",
   "execution_count": 2,
   "metadata": {},
   "outputs": [
    {
     "name": "stderr",
     "output_type": "stream",
     "text": [
      "INFO:unityagents:\n",
      "'Academy' started successfully!\n",
      "Unity Academy name: Academy\n",
      "        Number of Brains: 1\n",
      "        Number of External Brains : 1\n",
      "        Lesson number : 0\n",
      "        Reset Parameters :\n",
      "\t\tgoal_speed -> 1.0\n",
      "\t\tgoal_size -> 5.0\n",
      "Unity brain name: ReacherBrain\n",
      "        Number of Visual Observations (per agent): 0\n",
      "        Vector Observation space type: continuous\n",
      "        Vector Observation space size (per agent): 33\n",
      "        Number of stacked Vector Observation: 1\n",
      "        Vector Action space type: continuous\n",
      "        Vector Action space size (per agent): 4\n",
      "        Vector Action descriptions: , , , \n"
     ]
    }
   ],
   "source": [
    "env = UnityEnvironment(file_name='./Reacher_Windows_x86_64_OneAgent/Reacher.exe')\n",
    "brain_name = env.brain_names[0]\n",
    "env_info = env.reset(train_mode=True)[brain_name]\n",
    "brain = env.brains[brain_name]\n",
    "action_size = brain.vector_action_space_size\n",
    "\n",
    "states = env_info.vector_observations\n",
    "state_size = states.shape[1]"
   ]
  },
  {
   "cell_type": "code",
   "execution_count": 3,
   "metadata": {},
   "outputs": [],
   "source": [
    "agent = Agent(state_size=state_size, action_size=action_size, random_seed=2)"
   ]
  },
  {
   "cell_type": "code",
   "execution_count": 4,
   "metadata": {},
   "outputs": [],
   "source": [
    "def test_results(episodes = 100):\n",
    "    test_scores = []\n",
    "    for i in range(episodes):\n",
    "        env_info = env.reset(train_mode=True)[brain_name]\n",
    "        state = env_info.vector_observations    \n",
    "        score = 0\n",
    "        step = 0\n",
    "        while True:\n",
    "            action = agent.act(state, add_noise=False)\n",
    "            env_info = env.step(action)[brain_name]        \n",
    "            next_state = env_info.vector_observations[0]        \n",
    "            reward = env_info.rewards[0]                       \n",
    "            done = env_info.local_done[0] \n",
    "            score += reward                         \n",
    "            state = next_state                               \n",
    "            step += 1\n",
    "            if done:    \n",
    "                sys.stdout.write('Episode: {}, Score: {:.2f}         \\r'.format(i+1, score))\n",
    "                test_scores.append(score)\n",
    "                break\n",
    "    return test_scores"
   ]
  },
  {
   "cell_type": "code",
   "execution_count": 5,
   "metadata": {},
   "outputs": [
    {
     "name": "stdout",
     "output_type": "stream",
     "text": [
      "Testing agent saved after 100 episodes\n",
      "Mean score: 2.70. Computation time: (00:05:20)\n",
      "Testing agent saved after 200 episodes\n",
      "Mean score: 8.70. Computation time: (00:10:40)\n",
      "Testing agent saved after 300 episodes\n",
      "Mean score: 35.62. Computation time: (00:15:58)\n",
      "Testing agent saved after 400 episodes\n",
      "Mean score: 35.50. Computation time: (00:21:17)\n",
      "Testing agent saved after 500 episodes\n",
      "Mean score: 36.24. Computation time: (00:26:38)\n",
      "Testing agent saved after 600 episodes\n",
      "Mean score: 31.22. Computation time: (00:31:55)\n",
      "Testing agent saved after 700 episodes\n",
      "Mean score: 37.04. Computation time: (00:37:11)\n",
      "Testing agent saved after 800 episodes\n",
      "Mean score: 35.47. Computation time: (00:42:27)\n",
      "Testing agent saved after 900 episodes\n",
      "Mean score: 35.08. Computation time: (00:47:43)\n",
      "Testing agent saved after 1000 episodes\n",
      "Mean score: 33.64. Computation time: (00:52:59)\n",
      "Testing agent saved after 1100 episodes\n",
      "Mean score: 36.12. Computation time: (00:58:15)\n",
      "Testing agent saved after 1200 episodes\n",
      "Mean score: 30.79. Computation time: (01:03:40)\n",
      "Testing agent saved after 1300 episodes\n",
      "Mean score: 34.31. Computation time: (01:09:20)\n",
      "Testing agent saved after 1400 episodes\n",
      "Mean score: 36.09. Computation time: (01:14:58)\n",
      "Testing agent saved after 1500 episodes\n",
      "Mean score: 33.62. Computation time: (01:20:20)\n",
      "Testing agent saved after 1600 episodes\n",
      "Mean score: 34.96. Computation time: (01:25:45)\n",
      "Testing agent saved after 1700 episodes\n",
      "Mean score: 34.14. Computation time: (01:31:17)\n",
      "Testing agent saved after 1800 episodes\n",
      "Mean score: 35.58. Computation time: (01:36:40)\n",
      "Testing agent saved after 1900 episodes\n",
      "Mean score: 34.93. Computation time: (01:42:11)\n",
      "Testing agent saved after 2000 episodes\n",
      "Mean score: 33.56. Computation time: (01:47:35)\n"
     ]
    }
   ],
   "source": [
    "scores_dic = {}\n",
    "t = time()\n",
    "for i in range(100, 2001, 100):\n",
    "    agent.actor_local.load_state_dict(torch.load('./models/checkpoint_actor_{}.pth'.format(i)))\n",
    "    agent.critic_local.load_state_dict(torch.load('./models/checkpoint_critic_{}.pth'.format(i)))\n",
    "    print ('Testing agent saved after {} episodes'.format(i))\n",
    "    scores_dic[i] = test_results()\n",
    "    print ('Mean score: {:.2f}. Computation time: ({})'.format(\n",
    "        np.mean(scores_dic[i]), strftime('%H:%M:%S', gmtime(time() - t))          \n",
    "    ))\n",
    "    "
   ]
  },
  {
   "cell_type": "code",
   "execution_count": 6,
   "metadata": {},
   "outputs": [],
   "source": [
    "pickle.dump(scores_dic, open('./test_scores.p', 'wb'))"
   ]
  },
  {
   "cell_type": "code",
   "execution_count": null,
   "metadata": {},
   "outputs": [],
   "source": [
    "env.close()"
   ]
  }
 ],
 "metadata": {
  "kernelspec": {
   "display_name": "Python 3",
   "language": "python",
   "name": "python3"
  },
  "language_info": {
   "codemirror_mode": {
    "name": "ipython",
    "version": 3
   },
   "file_extension": ".py",
   "mimetype": "text/x-python",
   "name": "python",
   "nbconvert_exporter": "python",
   "pygments_lexer": "ipython3",
   "version": "3.6.10"
  }
 },
 "nbformat": 4,
 "nbformat_minor": 4
}
